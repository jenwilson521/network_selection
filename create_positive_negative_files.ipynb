{
 "cells": [
  {
   "cell_type": "code",
   "execution_count": 1,
   "metadata": {},
   "outputs": [],
   "source": [
    "# written to create files of positive and negative drugs\n",
    "# based on DMES with drugs as rows and genes as columns\n",
    "# Written 9-17-19 JLW\n",
    "\n",
    "import pickle,os,csv\n",
    "from collections import defaultdict\n",
    "import pandas as pd\n",
    "from functools import partial\n",
    "\n",
    "\n",
    "dd_dic = partial(defaultdict, dict)\n",
    "\n",
    "# I couldn't get this to work\n",
    "#ddd_set = functools.partial(dd_dic,set)\n",
    "#dd_set = functools.partial(defaultdict,set)\n",
    "#d = defaultdict(partial(dd_set, dict))"
   ]
  },
  {
   "cell_type": "code",
   "execution_count": 2,
   "metadata": {},
   "outputs": [],
   "source": [
    "negf = 'drugs_to_dmes_false_positives.txt'\n",
    "posf = 'drugs_to_dmes_true_positive.txt'"
   ]
  },
  {
   "cell_type": "code",
   "execution_count": 3,
   "metadata": {},
   "outputs": [],
   "source": [
    "dR = csv.DictReader(open(posf,'r'),delimiter='\\t')\n",
    "# collect data by DME\n",
    "pos_d = defaultdict(dd_dic)\n",
    "for r in dR:\n",
    "    DME = r['Label DME']\n",
    "    pathfx_phen = r['PathFX Phenotype']\n",
    "    dbid = r['DrugBankID']\n",
    "    dname = r['Drug Name']\n",
    "    genes = r['Network genes assoc to phen']\n",
    "    if pos_d[DME][dbid] == {}:\n",
    "        pos_d[DME][dbid]=genes\n",
    "    else:\n",
    "        orig_genes = set(pos_d[DME][dbid].split(','))\n",
    "        new_genes = set(genes.split(','))\n",
    "        merge_genes = ','.join(list(orig_genes.union(new_genes)))\n",
    "        pos_d[DME][dbid] = merge_genes # append the gene\n",
    "        \n",
    "neg_d = defaultdict(dd_dic)\n",
    "dR = csv.DictReader(open(negf,'r'),delimiter='\\t')\n",
    "for r in dR:\n",
    "    DME = r['False Positive DME']\n",
    "    pathfx_phen = r['PathFX Phenotype']\n",
    "    dbid = r['DrugBankID']\n",
    "    dname = r['Drug Name']\n",
    "    genes = r['Network genes assoc to phen']\n",
    "    if neg_d[DME][dbid] == {}:\n",
    "        neg_d[DME][dbid]=genes\n",
    "    else:\n",
    "        orig_genes = set(neg_d[DME][dbid].split(','))\n",
    "        new_genes = set(genes.split(','))\n",
    "        merge_genes = ','.join(list(orig_genes.union(new_genes)))\n",
    "        neg_d[DME][dbid] = merge_genes # append the gene"
   ]
  },
  {
   "cell_type": "code",
   "execution_count": 7,
   "metadata": {},
   "outputs": [
    {
     "name": "stdout",
     "output_type": "stream",
     "text": [
      "{'CXCL1': 1, 'F2': 1, 'CXCL12': 1, 'name': 'DB00714', 'RXFP1': 1, 'ADORA1': 1, 'label': 'negative', 'ADRB1': 1, 'VIPR2': 1, 'HTR1B': 1, 'CALCA': 1, 'EDN1': 1, 'CCL20': 1, 'EDNRB': 1, 'AGT': 1, 'TACR1': 1}\n"
     ]
    }
   ],
   "source": [
    "pos_DMES = [k for k in pos_d]\n",
    "neg_DMES = [k for k in neg_d]\n",
    "all_DMES = set(pos_DMES).union(set(neg_DMES))\n",
    "# format the data for output\n",
    "\n",
    "for (dme,drug_dic) in pos_d.items():\n",
    "    dme_name = dme.replace(' ','_')\n",
    "    data = []\n",
    "    # store and label positive drugs\n",
    "    for (dbid,gene_str) in drug_dic.items():\n",
    "        row_data = {'name':dbid,'label':'positive'}\n",
    "        for g in gene_str.split(','):\n",
    "            row_data[g]=1\n",
    "        data.append(row_data)\n",
    "    \n",
    "    # store and label negative drugs if available\n",
    "    if dme in neg_d:\n",
    "        drug_dic = neg_d[dme]\n",
    "        for (dbid,gene_str) in drug_dic.items():\n",
    "            row_data = {'name':dbid,'label':'negative'}\n",
    "            for g in gene_str.split(','):\n",
    "                row_data[g]=1\n",
    "            data.append(row_data)\n",
    "            \n",
    "    # merge into Python data frame\n",
    "    df = pd.DataFrame(data)  \n",
    "    df = df.fillna(0)\n",
    "    \n",
    "    # reorder the columns\n",
    "    cols = df.columns.tolist()\n",
    "    new_cols = ['name','label'] + [c for c in cols if c != 'name' and c != 'label']\n",
    "    df = df[new_cols]\n",
    "    \n",
    "    if dme == 'Hepatic necrosis':\n",
    "        print(df)\n",
    "\n",
    "    outf = open(os.path.join('ML_network_positives_negatives','.'.join(['dme_'+dme_name.lower(),'txt'])),'w')\n",
    "    df.to_csv(outf,sep='\\t',index=False)\n",
    "    "
   ]
  },
  {
   "cell_type": "code",
   "execution_count": null,
   "metadata": {
    "collapsed": true
   },
   "outputs": [],
   "source": []
  }
 ],
 "metadata": {
  "kernelspec": {
   "display_name": "Python 2",
   "language": "python",
   "name": "python2"
  },
  "language_info": {
   "codemirror_mode": {
    "name": "ipython",
    "version": 2
   },
   "file_extension": ".py",
   "mimetype": "text/x-python",
   "name": "python",
   "nbconvert_exporter": "python",
   "pygments_lexer": "ipython2",
   "version": "2.7.16"
  }
 },
 "nbformat": 4,
 "nbformat_minor": 2
}
