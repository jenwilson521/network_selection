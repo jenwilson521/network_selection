{
 "cells": [
  {
   "cell_type": "code",
   "execution_count": 1,
   "metadata": {
    "collapsed": true
   },
   "outputs": [],
   "source": [
    "# written to create files of positive and negative drugs\n",
    "# based on DMES with drugs as rows and genes as columns\n",
    "# Written 9-17-19 JLW\n",
    "\n",
    "import pickle,os,csv\n",
    "from collections import defaultdict\n",
    "import pandas as pd\n",
    "from functools import partial\n",
    "\n",
    "\n",
    "dd_dic = partial(defaultdict, dict)\n",
    "\n",
    "# I couldn't get this to work\n",
    "#ddd_set = functools.partial(dd_dic,set)\n",
    "#dd_set = functools.partial(defaultdict,set)\n",
    "#d = defaultdict(partial(dd_set, dict))"
   ]
  },
  {
   "cell_type": "code",
   "execution_count": 2,
   "metadata": {
    "collapsed": true
   },
   "outputs": [],
   "source": [
    "negf = 'drugs_to_dmes_false_positives.txt'\n",
    "posf = 'drugs_to_dmes_true_positive.txt'"
   ]
  },
  {
   "cell_type": "code",
   "execution_count": 3,
   "metadata": {
    "collapsed": true
   },
   "outputs": [],
   "source": [
    "dR = csv.DictReader(open(posf,'r'),delimiter='\\t')\n",
    "# collect data by DME\n",
    "pos_d = defaultdict(dd_dic)\n",
    "for r in dR:\n",
    "    DME = r['Label DME']\n",
    "    pathfx_phen = r['PathFX Phenotype']\n",
    "    dbid = r['DrugBankID']\n",
    "    dname = r['Drug Name']\n",
    "    genes = r['Network genes assoc to phen']\n",
    "    if pos_d[DME][dbid] == {}:\n",
    "        pos_d[DME][dbid]=genes\n",
    "    else:\n",
    "        orig_genes = set(pos_d[DME][dbid].split(','))\n",
    "        new_genes = set(genes.split(','))\n",
    "        merge_genes = ','.join(list(orig_genes.union(new_genes)))\n",
    "        pos_d[DME][dbid] = merge_genes # append the gene\n",
    "        \n",
    "neg_d = defaultdict(dd_dic)\n",
    "dR = csv.DictReader(open(negf,'r'),delimiter='\\t')\n",
    "for r in dR:\n",
    "    DME = r['False Positive DME']\n",
    "    pathfx_phen = r['PathFX Phenotype']\n",
    "    dbid = r['DrugBankID']\n",
    "    dname = r['Drug Name']\n",
    "    genes = r['Network genes assoc to phen']\n",
    "    if neg_d[DME][dbid] == {}:\n",
    "        neg_d[DME][dbid]=genes\n",
    "    else:\n",
    "        orig_genes = set(neg_d[DME][dbid].split(','))\n",
    "        new_genes = set(genes.split(','))\n",
    "        merge_genes = ','.join(list(orig_genes.union(new_genes)))\n",
    "        neg_d[DME][dbid] = merge_genes # append the gene"
   ]
  },
  {
   "cell_type": "code",
   "execution_count": 4,
   "metadata": {},
   "outputs": [
    {
     "name": "stdout",
     "output_type": "stream",
     "text": [
      "       name     label  CNR2  CXCR2  CYP3A4  FPR1  HADH  NDUFA10  NDUFA12  \\\n",
      "0   DB01189  positive   0.0    0.0     0.0   0.0   1.0      1.0      1.0   \n",
      "1   DB01236  positive   0.0    0.0     1.0   0.0   1.0      1.0      1.0   \n",
      "2   DB00956  positive   1.0    1.0     1.0   1.0   0.0      0.0      0.0   \n",
      "3   DB00825  positive   1.0    1.0     0.0   1.0   0.0      0.0      0.0   \n",
      "4   DB00997  negative   0.0    0.0     1.0   0.0   1.0      1.0      1.0   \n",
      "5   DB04835  negative   1.0    1.0     1.0   1.0   0.0      0.0      0.0   \n",
      "6   DB01192  negative   1.0    1.0     1.0   1.0   0.0      0.0      0.0   \n",
      "7   DB00486  negative   1.0    1.0     0.0   1.0   0.0      0.0      0.0   \n",
      "8   DB01220  negative   0.0    0.0     1.0   0.0   0.0      0.0      0.0   \n",
      "9   DB01081  negative   1.0    1.0     0.0   1.0   0.0      0.0      0.0   \n",
      "10  DB08816  negative   1.0    1.0     1.0   1.0   0.0      0.0      0.0   \n",
      "11  DB01136  negative   0.0    0.0     1.0   0.0   1.0      0.0      1.0   \n",
      "12  DB00708  negative   1.0    1.0     1.0   1.0   0.0      0.0      0.0   \n",
      "13  DB06791  negative   1.0    1.0     0.0   1.0   0.0      0.0      0.0   \n",
      "14  DB00433  negative   1.0    1.0     1.0   1.0   0.0      0.0      0.0   \n",
      "\n",
      "    NDUFA2  NDUFA9  NDUFAF2  NDUFAF6  NDUFS3  NDUFS4  NDUFS7  NDUFS8  NR1I2  \\\n",
      "0      1.0     0.0      1.0      0.0     0.0     1.0     0.0     0.0    0.0   \n",
      "1      1.0     0.0      1.0      0.0     0.0     1.0     0.0     0.0    0.0   \n",
      "2      0.0     0.0      0.0      0.0     0.0     0.0     0.0     0.0    0.0   \n",
      "3      0.0     0.0      0.0      0.0     0.0     0.0     0.0     0.0    0.0   \n",
      "4      1.0     1.0      1.0      1.0     1.0     1.0     1.0     1.0    0.0   \n",
      "5      0.0     0.0      0.0      0.0     0.0     0.0     0.0     0.0    0.0   \n",
      "6      0.0     0.0      0.0      0.0     0.0     0.0     0.0     0.0    0.0   \n",
      "7      0.0     0.0      0.0      0.0     0.0     0.0     0.0     0.0    0.0   \n",
      "8      0.0     0.0      0.0      0.0     0.0     0.0     0.0     0.0    1.0   \n",
      "9      0.0     0.0      0.0      0.0     0.0     0.0     0.0     0.0    0.0   \n",
      "10     0.0     0.0      0.0      0.0     0.0     0.0     0.0     0.0    0.0   \n",
      "11     0.0     1.0      1.0      1.0     1.0     1.0     1.0     1.0    0.0   \n",
      "12     0.0     0.0      0.0      0.0     0.0     0.0     0.0     0.0    0.0   \n",
      "13     0.0     0.0      0.0      0.0     0.0     0.0     0.0     0.0    0.0   \n",
      "14     0.0     0.0      0.0      0.0     0.0     0.0     0.0     0.0    0.0   \n",
      "\n",
      "    TGFA  \n",
      "0    1.0  \n",
      "1    1.0  \n",
      "2    0.0  \n",
      "3    0.0  \n",
      "4    0.0  \n",
      "5    0.0  \n",
      "6    0.0  \n",
      "7    0.0  \n",
      "8    0.0  \n",
      "9    0.0  \n",
      "10   0.0  \n",
      "11   0.0  \n",
      "12   0.0  \n",
      "13   0.0  \n",
      "14   0.0  \n"
     ]
    }
   ],
   "source": [
    "pos_DMES = [k for k in pos_d]\n",
    "neg_DMES = [k for k in neg_d]\n",
    "all_DMES = set(pos_DMES).union(set(neg_DMES))\n",
    "# format the data for output\n",
    "\n",
    "for (dme,drug_dic) in pos_d.items():\n",
    "    dme_name = dme.replace(' ','_')\n",
    "    data = []\n",
    "    # store and label positive drugs\n",
    "    for (dbid,gene_str) in drug_dic.items():\n",
    "        row_data = {'name':dbid,'label':'positive'}\n",
    "        for g in gene_str.split(','):\n",
    "            row_data[g]=1\n",
    "        data.append(row_data)\n",
    "    \n",
    "    # store and label negative drugs if available\n",
    "    if dme in neg_d:\n",
    "        drug_dic = neg_d[dme]\n",
    "        for (dbid,gene_str) in drug_dic.items():\n",
    "            row_data = {'name':dbid,'label':'negative'}\n",
    "            for g in gene_str.split(','):\n",
    "                row_data[g]=1\n",
    "            data.append(row_data)\n",
    "            \n",
    "    # merge into Python data frame\n",
    "    df = pd.DataFrame(data)  \n",
    "    df = df.fillna(0)\n",
    "    \n",
    "    # reorder the columns\n",
    "    cols = df.columns.tolist()\n",
    "    new_cols = ['name','label'] + [c for c in cols if c != 'name' and c != 'label']\n",
    "    df = df[new_cols]\n",
    "    \n",
    "    if dme == 'Hepatic necrosis':\n",
    "        print(df)\n",
    "\n",
    "    outf = open('.'.join([dme_name,'txt']),'w')\n",
    "    df.to_csv(outf,sep='\\t',index=False)\n",
    "    "
   ]
  },
  {
   "cell_type": "code",
   "execution_count": null,
   "metadata": {
    "collapsed": true
   },
   "outputs": [],
   "source": []
  }
 ],
 "metadata": {
  "kernelspec": {
   "display_name": "Python 2",
   "language": "python",
   "name": "python2"
  },
  "language_info": {
   "codemirror_mode": {
    "name": "ipython",
    "version": 2
   },
   "file_extension": ".py",
   "mimetype": "text/x-python",
   "name": "python",
   "nbconvert_exporter": "python",
   "pygments_lexer": "ipython2",
   "version": "2.7.14"
  }
 },
 "nbformat": 4,
 "nbformat_minor": 2
}
